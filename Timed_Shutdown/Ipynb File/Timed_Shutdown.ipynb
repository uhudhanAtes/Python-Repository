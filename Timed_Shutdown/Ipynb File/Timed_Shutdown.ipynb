{
 "cells": [
  {
   "cell_type": "code",
   "execution_count": 24,
   "metadata": {},
   "outputs": [],
   "source": [
    "from tkinter import *\n",
    "from tkinter import messagebox\n",
    "import os"
   ]
  },
  {
   "cell_type": "code",
   "execution_count": 28,
   "metadata": {},
   "outputs": [],
   "source": [
    "def click(): \n",
    "    if 0 < var.get() <= 480:\n",
    "        os.system(\"shutdown /s /t {}\".format(var.get()*60))\n",
    "        master.quit()\n",
    "        \n",
    "    else:\n",
    "        mesaj=\"Something went wrong!\"\n",
    "        messagebox.showwarning(\"Warring\",mesaj)"
   ]
  },
  {
   "cell_type": "code",
   "execution_count": 48,
   "metadata": {},
   "outputs": [],
   "source": [
    "master = Tk()\n",
    "master.title(\"Timed Shutdown\")\n",
    "master.resizable(False, False)\n",
    "\n",
    "mainColor = 'khaki1'\n",
    "secondColor = 'PaleGreen2'    \n",
    "buttoncolor = 'old lace'\n",
    "canvas = Canvas(master ,height=210 ,width=460)  \n",
    "canvas.pack() \n",
    "\n",
    "top = Frame(master, bg=mainColor)\n",
    "top.place(relx=0, rely=0, relwidth=1, relheight=0.8)\n",
    "\n",
    "down = Frame(master, bg=secondColor)\n",
    "down.place(relx=0, rely=0.8, relwidth=1, relheight=1)\n",
    "\n",
    "toplabel = Label(top, text=\"Timed Shutdown\", bg=secondColor, font=\"Arial 18 bold\", anchor='center')\n",
    "toplabel.place(relx=0, rely=0, relwidth=1, relheight=0.25)\n",
    "\n",
    "var = IntVar()\n",
    "\n",
    "time = Spinbox(top, from_=0, to=480, bd=5, bg=buttoncolor, textvariable=var, font='Arial 16', width=16, relief='flat')\n",
    "time.place(relx=0.27, rely=0.35)\n",
    "\n",
    "button = Button(top, text='Submit',bd=3, bg=buttoncolor, command=click, font='Arial 12', relief='raised')\n",
    "button.place(relx=0.40, rely=0.62, relheight=0.25, relwidth= 0.2)\n",
    "    \n",
    "label = Label(down,\n",
    "             text=\"Time in minutes, time range 1 minute - 480 minutes (8 hours)\",\n",
    "             bg=secondColor,\n",
    "             font=\"Arial 12 \",\n",
    "             anchor='w'\n",
    ")\n",
    "label.place(relx=0, rely=0, relheight=0.2, relwidth=1)  \n",
    "\n",
    "master.mainloop()"
   ]
  }
 ],
 "metadata": {
  "kernelspec": {
   "display_name": "Python 3",
   "language": "python",
   "name": "python3"
  },
  "language_info": {
   "codemirror_mode": {
    "name": "ipython",
    "version": 3
   },
   "file_extension": ".py",
   "mimetype": "text/x-python",
   "name": "python",
   "nbconvert_exporter": "python",
   "pygments_lexer": "ipython3",
   "version": "3.8.5"
  }
 },
 "nbformat": 4,
 "nbformat_minor": 4
}
