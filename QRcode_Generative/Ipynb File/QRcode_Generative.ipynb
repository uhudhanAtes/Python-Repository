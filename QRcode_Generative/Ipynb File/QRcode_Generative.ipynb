{
 "cells": [
  {
   "cell_type": "code",
   "execution_count": 24,
   "metadata": {},
   "outputs": [],
   "source": [
    "from tkinter import *\n",
    "import qrcode\n",
    "import os\n",
    "\n",
    "def send():\n",
    "    url = var.get()\n",
    "    if url.split(\"/\")[0] == \"https:\":\n",
    "        code = qrcode.QRCode(error_correction = qrcode.constants.ERROR_CORRECT_L)\n",
    "        code.add_data(url)\n",
    "        code.make(fit = True)\n",
    "        \n",
    "        image = code.make_image(fill_color = \"black\", back_color = \"white\") \n",
    "        image.save(os.environ.get(\"USERPROFILE\")+\"\\\\Desktop\\\\QRcode.png\")   ## os.environ.get(\"USERPROFILE\") \n",
    "                                                                            ## user's directory\n",
    "    else:\n",
    "        login.delete(0,END)\n",
    "        text = \"URL not detected\"\n",
    "        login.insert(0, text)\n",
    "    \n",
    "def clear():\n",
    "        login.delete(0,END)"
   ]
  },
  {
   "cell_type": "code",
   "execution_count": 25,
   "metadata": {},
   "outputs": [],
   "source": [
    "master = Tk()\n",
    "master.title(\"QR code\")\n",
    "master.resizable(False, False)\n",
    "\n",
    "maincolor = \"snow2\"\n",
    "secondcolor = \"snow\"\n",
    "\n",
    "canvas = Canvas(master, bg=maincolor, height=150, width=420)\n",
    "canvas.pack()\n",
    "\n",
    "top = Frame(canvas, bg=maincolor)\n",
    "top.place(relx=0.01, rely=0.01, relwidth = 0.98, relheight = 0.45)\n",
    "\n",
    "mid = Frame(canvas, bg=maincolor)\n",
    "mid.place(relx=0.01, rely=0.50, relwidth = 0.98, relheight = 0.40)\n",
    "\n",
    "label = Label(top, text=\"Enter URL : \", bg=maincolor, font=\"arrial 15\")\n",
    "label.pack(padx=1, pady=10, side=LEFT)\n",
    "\n",
    "var = StringVar()\n",
    "login = Entry(top, bd=5, font=\"arrial 12\", bg=secondcolor, textvariable=var)\n",
    "login.place(x=110, y=14, relheight=0.6, relwidth= 0.70)\n",
    "\n",
    "send_button = Button(mid, text=\"Save Destop\", font=\"arrial 12\", relief=\"groove\", bd=4, bg=secondcolor, command = lambda:send())\n",
    "send_button.place(x=40, y=1, relheight=0.75, relwidth= 0.4)\n",
    "\n",
    "clear_button = Button(mid, text=\"Clear\", font=\"arrial 12\", relief=\"groove\", bd=4, bg=secondcolor, command = lambda:clear())\n",
    "clear_button.place(x=230, y=1, relheight=0.75, relwidth= 0.3)       \n",
    "\n",
    "master.mainloop()"
   ]
  }
 ],
 "metadata": {
  "kernelspec": {
   "display_name": "Python 3",
   "language": "python",
   "name": "python3"
  },
  "language_info": {
   "codemirror_mode": {
    "name": "ipython",
    "version": 3
   },
   "file_extension": ".py",
   "mimetype": "text/x-python",
   "name": "python",
   "nbconvert_exporter": "python",
   "pygments_lexer": "ipython3",
   "version": "3.8.5"
  }
 },
 "nbformat": 4,
 "nbformat_minor": 4
}
